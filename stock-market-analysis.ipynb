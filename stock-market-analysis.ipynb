{
 "cells": [
  {
   "cell_type": "markdown",
   "id": "ab099cbe",
   "metadata": {},
   "source": [
    "# Correlation and utility analysis of different data in predicting stock market value\n",
    "\n",
    "This notebook's purpose is to determine how we can use different data provided by yfinance to predict the next stock market rates."
   ]
  },
  {
   "cell_type": "code",
   "execution_count": 2,
   "id": "bc7a667d",
   "metadata": {},
   "outputs": [
    {
     "name": "stdout",
     "output_type": "stream",
     "text": [
      "yfinance version: 0.2.66\n"
     ]
    }
   ],
   "source": [
    "# 1) Install yfinance if not already installed\n",
    "import sys\n",
    "import pandas as pd\n",
    "from IPython.display import display, Image, HTML\n",
    "\n",
    "try:\n",
    "    import yfinance as yf\n",
    "except ImportError:\n",
    "    %pip install yfinance --quiet\n",
    "    import yfinance as yf\n",
    "\n",
    "print(\"yfinance version:\", getattr(yf, \"__version__\", \"unknown\"))"
   ]
  }
 ],
 "metadata": {
  "kernelspec": {
   "display_name": "Python 3",
   "language": "python",
   "name": "python3"
  },
  "language_info": {
   "codemirror_mode": {
    "name": "ipython",
    "version": 3
   },
   "file_extension": ".py",
   "mimetype": "text/x-python",
   "name": "python",
   "nbconvert_exporter": "python",
   "pygments_lexer": "ipython3",
   "version": "3.13.2"
  }
 },
 "nbformat": 4,
 "nbformat_minor": 5
}
